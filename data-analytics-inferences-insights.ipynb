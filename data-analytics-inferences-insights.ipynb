{
 "cells": [
  {
   "cell_type": "markdown",
   "metadata": {},
   "source": [
    "# Coursework 2: Internet of Things.\n",
    "\n",
    "This document contains Section 2 of Coursework 2, *Data analytics, inferences and insights*  \n",
    "  \n",
    "The analytics performed in this document are on historical data. This project also included some real-time analysis and calculations [Power, Cost, Predicted Cost], these are described in more detail in the report.  \n",
    "\n",
    "## Time-Series Data Sources \n",
    "  \n",
    "The 2 time-series data sources used for this project are a Bosch BME680 sensor, configured for a Raspberry Pi, and API Data from the Open Weather Map.  \n",
    "  \n",
    "Each section below explains these data-sources, the associated sampling rates and why they were selected.  \n",
    "  \n",
    "**Assumptions:**  \n",
    "* Heat dissipation is constant for all temperatures.\n",
    "* House is built to building standard for -2&deg;C.  \n",
    "* API Weather Data is accurate to 2 decimal places.\n",
    "\n",
    "## BME680\n",
    "\n",
    "### Temperature  \n",
    "  \n",
    "Write here. Include the .gov reference of 30 Secs to start a fire and OWM information regarding 10 minute sampling rate.  \n",
    "  \n",
    "  \n",
    "### Humidity      \n",
    "  \n",
    "Write here.  \n",
    "  \n",
    "  \n",
    "### Pressure  \n",
    "  \n",
    "Write here.  \n",
    "  \n",
    "  \n",
    "## Open Weather Map (OWM API)\n",
    "\n",
    "### Temperature  \n",
    "  \n",
    "Write here. Include the .gov reference of 30 Secs to start a fire and OWM information regarding 10 minute sampling rate.  \n",
    "  \n",
    "  \n",
    "### Humidity      \n",
    "  \n",
    "Write here.  \n",
    "  \n",
    "  \n",
    "### Pressure  \n",
    "  \n",
    "Write here.  \n",
    "  \n",
    "  \n",
    "## Generated Data\n",
    "  \n",
    "These are streams of data which are generated onboard the Raspberry Pi, as the d\n",
    "### Power  \n",
    "  \n",
    "Write here. Use the heat dissapation estimation here.  \n",
    "  \n",
    "  \n",
    "### Cost  \n",
    "  \n",
    "Write here. Use the british gas.  \n",
    "  \n",
    "  "
   ]
  },
  {
   "cell_type": "markdown",
   "metadata": {},
   "source": [
    "## Import Modules"
   ]
  },
  {
   "cell_type": "code",
   "execution_count": 266,
   "metadata": {
    "collapsed": false
   },
   "outputs": [
    {
     "data": {
      "text/html": [
       "<script>requirejs.config({paths: { 'plotly': ['https://cdn.plot.ly/plotly-latest.min']},});if(!window.Plotly) {{require(['plotly'],function(plotly) {window.Plotly=plotly;});}}</script>"
      ],
      "text/vnd.plotly.v1+html": [
       "<script>requirejs.config({paths: { 'plotly': ['https://cdn.plot.ly/plotly-latest.min']},});if(!window.Plotly) {{require(['plotly'],function(plotly) {window.Plotly=plotly;});}}</script>"
      ]
     },
     "metadata": {},
     "output_type": "display_data"
    }
   ],
   "source": [
    "import pandas as pd\n",
    "import numpy as np\n",
    "import matplotlib.pyplot as plt\n",
    "%matplotlib inline \n",
    "import scipy as sp\n",
    "import plotly.plotly as py\n",
    "import plotly.figure_factory as ff\n",
    "import plotly.graph_objs as go\n",
    "from plotly.offline import init_notebook_mode, iplot\n",
    "init_notebook_mode(connected=True)\n",
    "from datetime import datetime\n",
    "import time\n",
    "from sklearn.preprocessing import normalize"
   ]
  },
  {
   "cell_type": "markdown",
   "metadata": {},
   "source": [
    "## Read data from CSV file"
   ]
  },
  {
   "cell_type": "code",
   "execution_count": 267,
   "metadata": {
    "collapsed": false
   },
   "outputs": [
    {
     "data": {
      "text/html": [
       "<div>\n",
       "<style scoped>\n",
       "    .dataframe tbody tr th:only-of-type {\n",
       "        vertical-align: middle;\n",
       "    }\n",
       "\n",
       "    .dataframe tbody tr th {\n",
       "        vertical-align: top;\n",
       "    }\n",
       "\n",
       "    .dataframe thead th {\n",
       "        text-align: right;\n",
       "    }\n",
       "</style>\n",
       "<table border=\"1\" class=\"dataframe\">\n",
       "  <thead>\n",
       "    <tr style=\"text-align: right;\">\n",
       "      <th></th>\n",
       "      <th>time</th>\n",
       "      <th>temp_in</th>\n",
       "      <th>press_in</th>\n",
       "      <th>hum_in</th>\n",
       "      <th>time_measured</th>\n",
       "      <th>temp_out</th>\n",
       "      <th>press_out</th>\n",
       "      <th>hum_out</th>\n",
       "      <th>time_diff</th>\n",
       "      <th>temp_diff</th>\n",
       "      <th>press_diff</th>\n",
       "      <th>hum_diff</th>\n",
       "      <th>power</th>\n",
       "      <th>cost_window</th>\n",
       "      <th>cost_predict</th>\n",
       "    </tr>\n",
       "  </thead>\n",
       "  <tbody>\n",
       "    <tr>\n",
       "      <th>0</th>\n",
       "      <td>2019/01/03 02:25:08</td>\n",
       "      <td>18.92</td>\n",
       "      <td>1043.99</td>\n",
       "      <td>55.893</td>\n",
       "      <td>2019/01/03 01:50:00</td>\n",
       "      <td>3.67</td>\n",
       "      <td>1043</td>\n",
       "      <td>75</td>\n",
       "      <td>0:35:08</td>\n",
       "      <td>15.25</td>\n",
       "      <td>0.99</td>\n",
       "      <td>-19.107</td>\n",
       "      <td>1936.75</td>\n",
       "      <td>0.000</td>\n",
       "      <td>0.00</td>\n",
       "    </tr>\n",
       "    <tr>\n",
       "      <th>1</th>\n",
       "      <td>2019/01/03 02:25:25</td>\n",
       "      <td>18.92</td>\n",
       "      <td>1043.99</td>\n",
       "      <td>55.990</td>\n",
       "      <td>2019/01/03 01:50:00</td>\n",
       "      <td>3.67</td>\n",
       "      <td>1043</td>\n",
       "      <td>75</td>\n",
       "      <td>0:35:25</td>\n",
       "      <td>15.25</td>\n",
       "      <td>0.99</td>\n",
       "      <td>-19.010</td>\n",
       "      <td>1936.75</td>\n",
       "      <td>0.023</td>\n",
       "      <td>5.38</td>\n",
       "    </tr>\n",
       "    <tr>\n",
       "      <th>2</th>\n",
       "      <td>2019/01/03 02:25:41</td>\n",
       "      <td>18.92</td>\n",
       "      <td>1043.99</td>\n",
       "      <td>56.198</td>\n",
       "      <td>2019/01/03 01:50:00</td>\n",
       "      <td>3.67</td>\n",
       "      <td>1043</td>\n",
       "      <td>75</td>\n",
       "      <td>0:35:41</td>\n",
       "      <td>15.25</td>\n",
       "      <td>0.99</td>\n",
       "      <td>-18.802</td>\n",
       "      <td>1936.75</td>\n",
       "      <td>0.030</td>\n",
       "      <td>5.38</td>\n",
       "    </tr>\n",
       "    <tr>\n",
       "      <th>3</th>\n",
       "      <td>2019/01/03 02:26:01</td>\n",
       "      <td>18.91</td>\n",
       "      <td>1044.00</td>\n",
       "      <td>55.882</td>\n",
       "      <td>2019/01/03 01:50:00</td>\n",
       "      <td>3.67</td>\n",
       "      <td>1043</td>\n",
       "      <td>75</td>\n",
       "      <td>0:36:01</td>\n",
       "      <td>15.24</td>\n",
       "      <td>1.00</td>\n",
       "      <td>-19.118</td>\n",
       "      <td>1935.48</td>\n",
       "      <td>0.024</td>\n",
       "      <td>5.38</td>\n",
       "    </tr>\n",
       "    <tr>\n",
       "      <th>4</th>\n",
       "      <td>2019/01/03 02:26:17</td>\n",
       "      <td>18.91</td>\n",
       "      <td>1044.00</td>\n",
       "      <td>56.124</td>\n",
       "      <td>2019/01/03 01:50:00</td>\n",
       "      <td>3.67</td>\n",
       "      <td>1043</td>\n",
       "      <td>75</td>\n",
       "      <td>0:36:17</td>\n",
       "      <td>15.24</td>\n",
       "      <td>1.00</td>\n",
       "      <td>-18.876</td>\n",
       "      <td>1935.48</td>\n",
       "      <td>0.023</td>\n",
       "      <td>5.38</td>\n",
       "    </tr>\n",
       "  </tbody>\n",
       "</table>\n",
       "</div>"
      ],
      "text/plain": [
       "                  time  temp_in  press_in  hum_in        time_measured  \\\n",
       "0  2019/01/03 02:25:08    18.92   1043.99  55.893  2019/01/03 01:50:00   \n",
       "1  2019/01/03 02:25:25    18.92   1043.99  55.990  2019/01/03 01:50:00   \n",
       "2  2019/01/03 02:25:41    18.92   1043.99  56.198  2019/01/03 01:50:00   \n",
       "3  2019/01/03 02:26:01    18.91   1044.00  55.882  2019/01/03 01:50:00   \n",
       "4  2019/01/03 02:26:17    18.91   1044.00  56.124  2019/01/03 01:50:00   \n",
       "\n",
       "   temp_out  press_out  hum_out time_diff  temp_diff  press_diff  hum_diff  \\\n",
       "0      3.67       1043       75   0:35:08      15.25        0.99   -19.107   \n",
       "1      3.67       1043       75   0:35:25      15.25        0.99   -19.010   \n",
       "2      3.67       1043       75   0:35:41      15.25        0.99   -18.802   \n",
       "3      3.67       1043       75   0:36:01      15.24        1.00   -19.118   \n",
       "4      3.67       1043       75   0:36:17      15.24        1.00   -18.876   \n",
       "\n",
       "     power  cost_window  cost_predict  \n",
       "0  1936.75        0.000          0.00  \n",
       "1  1936.75        0.023          5.38  \n",
       "2  1936.75        0.030          5.38  \n",
       "3  1935.48        0.024          5.38  \n",
       "4  1935.48        0.023          5.38  "
      ]
     },
     "execution_count": 267,
     "metadata": {},
     "output_type": "execute_result"
    }
   ],
   "source": [
    "data = pd.read_csv(\n",
    "    './data-storage/usb/data_log_combined.csv')\n",
    "\n",
    "n, m = np.shape(data)\n",
    "\n",
    "data.head()"
   ]
  },
  {
   "cell_type": "code",
   "execution_count": 268,
   "metadata": {
    "collapsed": false
   },
   "outputs": [
    {
     "data": {
      "text/plain": [
       "0    2019-01-03 02:25:08\n",
       "1    2019-01-03 02:25:25\n",
       "2    2019-01-03 02:25:41\n",
       "3    2019-01-03 02:26:01\n",
       "4    2019-01-03 02:26:17\n",
       "Name: time, dtype: object"
      ]
     },
     "execution_count": 268,
     "metadata": {},
     "output_type": "execute_result"
    }
   ],
   "source": [
    "time = data.iloc[:,0]\n",
    "\n",
    "for i in range(n):\n",
    "    t = datetime.strptime(time[i], '%Y/%m/%d %H:%M:%S')\n",
    "    time[i] = t\n",
    "\n",
    "time.head()"
   ]
  },
  {
   "cell_type": "code",
   "execution_count": 269,
   "metadata": {
    "collapsed": false
   },
   "outputs": [
    {
     "data": {
      "text/html": [
       "<div>\n",
       "<style scoped>\n",
       "    .dataframe tbody tr th:only-of-type {\n",
       "        vertical-align: middle;\n",
       "    }\n",
       "\n",
       "    .dataframe tbody tr th {\n",
       "        vertical-align: top;\n",
       "    }\n",
       "\n",
       "    .dataframe thead th {\n",
       "        text-align: right;\n",
       "    }\n",
       "</style>\n",
       "<table border=\"1\" class=\"dataframe\">\n",
       "  <thead>\n",
       "    <tr style=\"text-align: right;\">\n",
       "      <th></th>\n",
       "      <th>temp_in</th>\n",
       "      <th>press_in</th>\n",
       "      <th>hum_in</th>\n",
       "    </tr>\n",
       "  </thead>\n",
       "  <tbody>\n",
       "    <tr>\n",
       "      <th>0</th>\n",
       "      <td>18.92</td>\n",
       "      <td>1043.99</td>\n",
       "      <td>55.893</td>\n",
       "    </tr>\n",
       "    <tr>\n",
       "      <th>1</th>\n",
       "      <td>18.92</td>\n",
       "      <td>1043.99</td>\n",
       "      <td>55.990</td>\n",
       "    </tr>\n",
       "    <tr>\n",
       "      <th>2</th>\n",
       "      <td>18.92</td>\n",
       "      <td>1043.99</td>\n",
       "      <td>56.198</td>\n",
       "    </tr>\n",
       "    <tr>\n",
       "      <th>3</th>\n",
       "      <td>18.91</td>\n",
       "      <td>1044.00</td>\n",
       "      <td>55.882</td>\n",
       "    </tr>\n",
       "    <tr>\n",
       "      <th>4</th>\n",
       "      <td>18.91</td>\n",
       "      <td>1044.00</td>\n",
       "      <td>56.124</td>\n",
       "    </tr>\n",
       "  </tbody>\n",
       "</table>\n",
       "</div>"
      ],
      "text/plain": [
       "   temp_in  press_in  hum_in\n",
       "0    18.92   1043.99  55.893\n",
       "1    18.92   1043.99  55.990\n",
       "2    18.92   1043.99  56.198\n",
       "3    18.91   1044.00  55.882\n",
       "4    18.91   1044.00  56.124"
      ]
     },
     "execution_count": 269,
     "metadata": {},
     "output_type": "execute_result"
    }
   ],
   "source": [
    "inside = data.iloc[:,1:4]\n",
    "\n",
    "inside.head()"
   ]
  },
  {
   "cell_type": "code",
   "execution_count": 270,
   "metadata": {
    "collapsed": false
   },
   "outputs": [
    {
     "data": {
      "text/html": [
       "<div>\n",
       "<style scoped>\n",
       "    .dataframe tbody tr th:only-of-type {\n",
       "        vertical-align: middle;\n",
       "    }\n",
       "\n",
       "    .dataframe tbody tr th {\n",
       "        vertical-align: top;\n",
       "    }\n",
       "\n",
       "    .dataframe thead th {\n",
       "        text-align: right;\n",
       "    }\n",
       "</style>\n",
       "<table border=\"1\" class=\"dataframe\">\n",
       "  <thead>\n",
       "    <tr style=\"text-align: right;\">\n",
       "      <th></th>\n",
       "      <th>temp_out</th>\n",
       "      <th>press_out</th>\n",
       "      <th>hum_out</th>\n",
       "    </tr>\n",
       "  </thead>\n",
       "  <tbody>\n",
       "    <tr>\n",
       "      <th>0</th>\n",
       "      <td>3.67</td>\n",
       "      <td>1043</td>\n",
       "      <td>75</td>\n",
       "    </tr>\n",
       "    <tr>\n",
       "      <th>1</th>\n",
       "      <td>3.67</td>\n",
       "      <td>1043</td>\n",
       "      <td>75</td>\n",
       "    </tr>\n",
       "    <tr>\n",
       "      <th>2</th>\n",
       "      <td>3.67</td>\n",
       "      <td>1043</td>\n",
       "      <td>75</td>\n",
       "    </tr>\n",
       "    <tr>\n",
       "      <th>3</th>\n",
       "      <td>3.67</td>\n",
       "      <td>1043</td>\n",
       "      <td>75</td>\n",
       "    </tr>\n",
       "    <tr>\n",
       "      <th>4</th>\n",
       "      <td>3.67</td>\n",
       "      <td>1043</td>\n",
       "      <td>75</td>\n",
       "    </tr>\n",
       "  </tbody>\n",
       "</table>\n",
       "</div>"
      ],
      "text/plain": [
       "   temp_out  press_out  hum_out\n",
       "0      3.67       1043       75\n",
       "1      3.67       1043       75\n",
       "2      3.67       1043       75\n",
       "3      3.67       1043       75\n",
       "4      3.67       1043       75"
      ]
     },
     "execution_count": 270,
     "metadata": {},
     "output_type": "execute_result"
    }
   ],
   "source": [
    "outside = data.iloc[:,5:8]\n",
    "\n",
    "outside.head()"
   ]
  },
  {
   "cell_type": "code",
   "execution_count": 271,
   "metadata": {
    "collapsed": false
   },
   "outputs": [
    {
     "data": {
      "text/html": [
       "<div>\n",
       "<style scoped>\n",
       "    .dataframe tbody tr th:only-of-type {\n",
       "        vertical-align: middle;\n",
       "    }\n",
       "\n",
       "    .dataframe tbody tr th {\n",
       "        vertical-align: top;\n",
       "    }\n",
       "\n",
       "    .dataframe thead th {\n",
       "        text-align: right;\n",
       "    }\n",
       "</style>\n",
       "<table border=\"1\" class=\"dataframe\">\n",
       "  <thead>\n",
       "    <tr style=\"text-align: right;\">\n",
       "      <th></th>\n",
       "      <th>temp_diff</th>\n",
       "      <th>press_diff</th>\n",
       "      <th>hum_diff</th>\n",
       "    </tr>\n",
       "  </thead>\n",
       "  <tbody>\n",
       "    <tr>\n",
       "      <th>0</th>\n",
       "      <td>15.25</td>\n",
       "      <td>0.99</td>\n",
       "      <td>-19.107</td>\n",
       "    </tr>\n",
       "    <tr>\n",
       "      <th>1</th>\n",
       "      <td>15.25</td>\n",
       "      <td>0.99</td>\n",
       "      <td>-19.010</td>\n",
       "    </tr>\n",
       "    <tr>\n",
       "      <th>2</th>\n",
       "      <td>15.25</td>\n",
       "      <td>0.99</td>\n",
       "      <td>-18.802</td>\n",
       "    </tr>\n",
       "    <tr>\n",
       "      <th>3</th>\n",
       "      <td>15.24</td>\n",
       "      <td>1.00</td>\n",
       "      <td>-19.118</td>\n",
       "    </tr>\n",
       "    <tr>\n",
       "      <th>4</th>\n",
       "      <td>15.24</td>\n",
       "      <td>1.00</td>\n",
       "      <td>-18.876</td>\n",
       "    </tr>\n",
       "  </tbody>\n",
       "</table>\n",
       "</div>"
      ],
      "text/plain": [
       "   temp_diff  press_diff  hum_diff\n",
       "0      15.25        0.99   -19.107\n",
       "1      15.25        0.99   -19.010\n",
       "2      15.25        0.99   -18.802\n",
       "3      15.24        1.00   -19.118\n",
       "4      15.24        1.00   -18.876"
      ]
     },
     "execution_count": 271,
     "metadata": {},
     "output_type": "execute_result"
    }
   ],
   "source": [
    "delta = data.iloc[:,9:12]\n",
    "\n",
    "delta.head()"
   ]
  },
  {
   "cell_type": "code",
   "execution_count": 272,
   "metadata": {
    "collapsed": false
   },
   "outputs": [
    {
     "data": {
      "text/html": [
       "<div>\n",
       "<style scoped>\n",
       "    .dataframe tbody tr th:only-of-type {\n",
       "        vertical-align: middle;\n",
       "    }\n",
       "\n",
       "    .dataframe tbody tr th {\n",
       "        vertical-align: top;\n",
       "    }\n",
       "\n",
       "    .dataframe thead th {\n",
       "        text-align: right;\n",
       "    }\n",
       "</style>\n",
       "<table border=\"1\" class=\"dataframe\">\n",
       "  <thead>\n",
       "    <tr style=\"text-align: right;\">\n",
       "      <th></th>\n",
       "      <th>temp_diff</th>\n",
       "      <th>power</th>\n",
       "      <th>cost_window</th>\n",
       "      <th>cost_predict</th>\n",
       "    </tr>\n",
       "  </thead>\n",
       "  <tbody>\n",
       "    <tr>\n",
       "      <th>0</th>\n",
       "      <td>15.25</td>\n",
       "      <td>1936.75</td>\n",
       "      <td>0.000</td>\n",
       "      <td>0.00</td>\n",
       "    </tr>\n",
       "    <tr>\n",
       "      <th>1</th>\n",
       "      <td>15.25</td>\n",
       "      <td>1936.75</td>\n",
       "      <td>0.023</td>\n",
       "      <td>5.38</td>\n",
       "    </tr>\n",
       "    <tr>\n",
       "      <th>2</th>\n",
       "      <td>15.25</td>\n",
       "      <td>1936.75</td>\n",
       "      <td>0.030</td>\n",
       "      <td>5.38</td>\n",
       "    </tr>\n",
       "    <tr>\n",
       "      <th>3</th>\n",
       "      <td>15.24</td>\n",
       "      <td>1935.48</td>\n",
       "      <td>0.024</td>\n",
       "      <td>5.38</td>\n",
       "    </tr>\n",
       "    <tr>\n",
       "      <th>4</th>\n",
       "      <td>15.24</td>\n",
       "      <td>1935.48</td>\n",
       "      <td>0.023</td>\n",
       "      <td>5.38</td>\n",
       "    </tr>\n",
       "  </tbody>\n",
       "</table>\n",
       "</div>"
      ],
      "text/plain": [
       "   temp_diff    power  cost_window  cost_predict\n",
       "0      15.25  1936.75        0.000          0.00\n",
       "1      15.25  1936.75        0.023          5.38\n",
       "2      15.25  1936.75        0.030          5.38\n",
       "3      15.24  1935.48        0.024          5.38\n",
       "4      15.24  1935.48        0.023          5.38"
      ]
     },
     "execution_count": 272,
     "metadata": {},
     "output_type": "execute_result"
    }
   ],
   "source": [
    "delta_temp = data.iloc[:,9]\n",
    "metrics = data.iloc[:,12:]\n",
    "\n",
    "frames = [delta_temp, metrics]\n",
    "\n",
    "metrics = pd.concat(frames, axis=1)\n",
    "\n",
    "metrics.head()"
   ]
  },
  {
   "cell_type": "code",
   "execution_count": 273,
   "metadata": {
    "collapsed": false
   },
   "outputs": [],
   "source": [
    "temperature_inside = inside['temp_in']\n",
    "pressure_inside = inside['press_in']\n",
    "humidity_inside = inside['hum_in']\n",
    "\n",
    "\n",
    "temperature_outside = outside['temp_out']\n",
    "pressure_outside = outside['press_out']\n",
    "humidity_outside = outside['hum_out']\n",
    "\n",
    "delta_temperature = delta['temp_diff']\n",
    "delta_pressure = delta['press_diff']\n",
    "delta_humidity = delta['hum_diff']\n",
    "\n",
    "power = metrics['power']\n",
    "cost_increment = metrics['cost_window']\n",
    "cost_hourly = metrics['cost_predict']"
   ]
  },
  {
   "cell_type": "markdown",
   "metadata": {},
   "source": [
    "## Time-Series Plot\n",
    "\n",
    "This section contains simple time-series plots. They show each data stream, over the recording period.  \n",
    "As a result, they also highlight the blackspots in the data recording. This was as a result of the exception for the API request code check failing. Various fixes were attempted, and failed, the final fix was commited on the night of 6th-7th January as shown by the continous data after this point. With this fix, the program is robust enough to run until all memory is utilised. As the data is backed-up on Github, a future fix would be to erase the data after a specified period, perhaps once a month."
   ]
  },
  {
   "cell_type": "markdown",
   "metadata": {},
   "source": [
    "### Temperature, Humidity, Pressure\n",
    "\n",
    "**Inside:** BME680  \n",
    "  \n",
    "**Outside:** Open Weather Map API"
   ]
  },
  {
   "cell_type": "code",
   "execution_count": 274,
   "metadata": {
    "collapsed": false,
    "scrolled": true
   },
   "outputs": [
    {
     "data": {
      "image/png": "[encoded data removed]",
      "text/plain": [
       "<matplotlib.figure.Figure at 0x15a91748>"
      ]
     },
     "metadata": {},
     "output_type": "display_data"
    }
   ],
   "source": [
    "plt.subplot(2, 1, 1)\n",
    "plt.plot_date(time,temperature_inside)\n",
    "plt.title('Temperature Inside')\n",
    "\n",
    "plt.subplot(2, 1, 2)\n",
    "plt.plot_date(time,temperature_outside)\n",
    "plt.title('Temperature Outside')\n",
    "\n",
    "plt.tight_layout()"
   ]
  },
  {
   "cell_type": "code",
   "execution_count": 275,
   "metadata": {
    "collapsed": false
   },
   "outputs": [
    {
     "name": "stdout",
     "output_type": "stream",
     "text": [
      "The draw time for this plot will be slow for clients without much RAM.\n"
     ]
    },
    {
     "data": {
      "text/html": [
       "<iframe id=\"igraph\" scrolling=\"no\" style=\"border:none;\" seamless=\"seamless\" src=\"https://plot.ly/~Scott-Bunting/2.embed\" height=\"525px\" width=\"100%\"></iframe>"
      ],
      "text/plain": [
       "<plotly.tools.PlotlyDisplay object>"
      ]
     },
     "execution_count": 275,
     "metadata": {},
     "output_type": "execute_result"
    }
   ],
   "source": [
    "trace_temp_inside = go.Scatter(\n",
    "    x = time,\n",
    "    y = temperature_inside,\n",
    "    mode = 'markers',\n",
    "    name = 'Temperature Inside (&deg;C)'\n",
    ")\n",
    "\n",
    "trace_temp_outside = go.Scatter(\n",
    "    x = time,\n",
    "    y = temperature_outside,\n",
    "    mode = 'markers',\n",
    "    name = 'Temperature Outside (&deg;C)'\n",
    ")\n",
    "\n",
    "data = [trace_temp_inside, trace_temp_outside]\n",
    "py.iplot(data, filename='Temperatures')"
   ]
  },
  {
   "cell_type": "code",
   "execution_count": 276,
   "metadata": {
    "collapsed": false
   },
   "outputs": [
    {
     "data": {
      "image/png": "[encoded data removed]",
      "text/plain": [
       "<matplotlib.figure.Figure at 0x1b241e80>"
      ]
     },
     "metadata": {},
     "output_type": "display_data"
    }
   ],
   "source": [
    "plt.subplot(2, 1, 1)\n",
    "plt.plot_date(time, humidity_inside)\n",
    "plt.title('Humidity Inside')\n",
    "\n",
    "plt.subplot(2, 1, 2)\n",
    "plt.plot_date(time, humidity_outside)\n",
    "plt.title('Humidity Outside')\n",
    "\n",
    "plt.tight_layout()"
   ]
  },
  {
   "cell_type": "code",
   "execution_count": 277,
   "metadata": {
    "collapsed": false
   },
   "outputs": [
    {
     "name": "stdout",
     "output_type": "stream",
     "text": [
      "The draw time for this plot will be slow for clients without much RAM.\n"
     ]
    },
    {
     "data": {
      "text/html": [
       "<iframe id=\"igraph\" scrolling=\"no\" style=\"border:none;\" seamless=\"seamless\" src=\"https://plot.ly/~Scott-Bunting/4.embed\" height=\"525px\" width=\"100%\"></iframe>"
      ],
      "text/plain": [
       "<plotly.tools.PlotlyDisplay object>"
      ]
     },
     "execution_count": 277,
     "metadata": {},
     "output_type": "execute_result"
    }
   ],
   "source": [
    "trace_hum_inside = go.Scatter(\n",
    "    x = time,\n",
    "    y = humidity_inside,\n",
    "    mode = 'markers',\n",
    "    name = 'Humidity Inside (%RH)'\n",
    ")\n",
    "\n",
    "trace_hum_outside = go.Scatter(\n",
    "    x = time,\n",
    "    y = humidity_outside,\n",
    "    mode = 'markers',\n",
    "    name = 'Humidity Outside (%RH)'\n",
    ")\n",
    "\n",
    "data = [trace_hum_inside, trace_hum_outside]\n",
    "py.iplot(data, filename='Humidities')"
   ]
  },
  {
   "cell_type": "code",
   "execution_count": 278,
   "metadata": {
    "collapsed": false,
    "scrolled": true
   },
   "outputs": [
    {
     "data": {
      "image/png": "[encoded data removed]",
      "text/plain": [
       "<matplotlib.figure.Figure at 0x19932550>"
      ]
     },
     "metadata": {},
     "output_type": "display_data"
    }
   ],
   "source": [
    "plt.subplot(2, 1, 1)\n",
    "plt.plot_date(time, pressure_inside)\n",
    "plt.title('Pressure Inside')\n",
    "\n",
    "plt.subplot(2, 1, 2)\n",
    "plt.plot_date(time, pressure_outside)\n",
    "plt.title('Pressure Outside')\n",
    "\n",
    "plt.tight_layout()"
   ]
  },
  {
   "cell_type": "code",
   "execution_count": 279,
   "metadata": {
    "collapsed": false
   },
   "outputs": [
    {
     "name": "stdout",
     "output_type": "stream",
     "text": [
      "The draw time for this plot will be slow for clients without much RAM.\n"
     ]
    },
    {
     "data": {
      "text/html": [
       "<iframe id=\"igraph\" scrolling=\"no\" style=\"border:none;\" seamless=\"seamless\" src=\"https://plot.ly/~Scott-Bunting/6.embed\" height=\"525px\" width=\"100%\"></iframe>"
      ],
      "text/plain": [
       "<plotly.tools.PlotlyDisplay object>"
      ]
     },
     "execution_count": 279,
     "metadata": {},
     "output_type": "execute_result"
    }
   ],
   "source": [
    "trace_press_inside = go.Scatter(\n",
    "    x = time,\n",
    "    y = pressure_inside,\n",
    "    mode = 'markers',\n",
    "    name = 'Temperature Inside (hPa)'\n",
    ")\n",
    "\n",
    "trace_press_outside = go.Scatter(\n",
    "    x = time,\n",
    "    y = pressure_outside,\n",
    "    mode = 'markers',\n",
    "    name = 'Pressure Outside (hPa)'\n",
    ")\n",
    "\n",
    "data = [trace_press_inside, trace_press_outside]\n",
    "py.iplot(data, filename='Pressures')"
   ]
  },
  {
   "cell_type": "markdown",
   "metadata": {},
   "source": [
    "### Metrics\n",
    "\n",
    "These metrics were computed as the data was recorded. The intention for this is to make it easier for apps, using this device, to read the metrics from the house. Additionally, if there were multiple devices in each house, it would be easier for each device to compute the metrics for their house due to varying energy suppliers and household heat dissipation.\n",
    "\n",
    "**Power(W): P** Calculated using the temperature difference and a heat dissipation constant, as derived [here](https://www.open.edu/openlearn/nature-environment/the-environment/energy-buildings/content-section-2.4.1). The constant in this example was originally trialled, and resulted in similar cost predictions to the smart meter in the house the recording was coming from. However, this was during the holiday period and when the rest of the occupants - with the largest and most inefficiently heated rooms - returned this was no longer an accurate prediction. However, the constant was not changed as this would skew the recordings. Therefore, the constant was compared after recording had completed, of which the findings are in the main report.\n",
    "\n",
    "**Cost(£):** There are two aspects to the cost metric, cost increment and cost prediction.  \n",
    "  \n",
    "The **cost increment** is based on the time since the last recording, and then using P<sub>t</sub> and P<sub>t-1</sub> estimates to calculate the energy expended during this period. Then, using the [British Gas cost per kWh of Gas](https://www.ukpower.co.uk/home_energy/tariffs-per-unit-kwh), as they are our supplier, to calculate the cost of the energy over that window.  \n",
    "  \n",
    "The **cost prediction** is based solely on the instantaneous Power estimate, this is then divided by 1000 and multiplied by the cost per kWh. This is useful in showing a user how much their energy should cost for that day, allowing them to make decisions based on this. This can then be extrapolated to daily and weekly predictions as a more relevant statistic to which users can make decisions. These metrics are used in the API, to make it simpler for apps using the data to show important information."
   ]
  },
  {
   "cell_type": "code",
   "execution_count": 280,
   "metadata": {
    "collapsed": false
   },
   "outputs": [
    {
     "data": {
      "image/png": "[encoded data removed]",
      "text/plain": [
       "<matplotlib.figure.Figure at 0x1fb11e48>"
      ]
     },
     "metadata": {},
     "output_type": "display_data"
    }
   ],
   "source": [
    "n = 3\n",
    "m = 1\n",
    "\n",
    "plt.subplot(n, m, 1)\n",
    "plt.plot_date(time, power)\n",
    "plt.title('Power')\n",
    "\n",
    "plt.subplot(n, m, 2)\n",
    "plt.plot_date(time, cost_increment)\n",
    "plt.title('Cost Increment')\n",
    "\n",
    "plt.subplot(n, m, 3)\n",
    "plt.plot_date(time, cost_hourly)\n",
    "plt.title('Cost Hourly')\n",
    "\n",
    "plt.tight_layout()"
   ]
  },
  {
   "cell_type": "code",
   "execution_count": 281,
   "metadata": {
    "collapsed": false,
    "scrolled": true
   },
   "outputs": [
    {
     "name": "stdout",
     "output_type": "stream",
     "text": [
      "The draw time for this plot will be slow for all clients.\n"
     ]
    },
    {
     "data": {
      "text/html": [
       "<iframe id=\"igraph\" scrolling=\"no\" style=\"border:none;\" seamless=\"seamless\" src=\"https://plot.ly/~Scott-Bunting/8.embed\" height=\"525px\" width=\"100%\"></iframe>"
      ],
      "text/plain": [
       "<plotly.tools.PlotlyDisplay object>"
      ]
     },
     "execution_count": 281,
     "metadata": {},
     "output_type": "execute_result"
    }
   ],
   "source": [
    "trace_temp_diff = go.Scatter(\n",
    "    x = time,\n",
    "    y = delta_temperature,\n",
    "    mode = 'markers',\n",
    "    name = 'Temperature Difference (&deg;C)')\n",
    "\n",
    "trace_power = go.Scatter(\n",
    "    x = time,\n",
    "    y = power,\n",
    "    mode = 'markers',\n",
    "    name = 'Estimated Power Consumption (W)'\n",
    ")\n",
    "\n",
    "trace_cost_inc = go.Scatter(\n",
    "    x = time,\n",
    "    y = cost_increment,\n",
    "    mode = 'markers',\n",
    "    name = 'Cost Increment (p)'\n",
    ")\n",
    "\n",
    "trace_cost_hour = go.Scatter(\n",
    "    x = time,\n",
    "    y = cost_hourly,\n",
    "    mode = 'markers',\n",
    "    name = 'Hourly Cost Prediction (p)'\n",
    ")\n",
    "\n",
    "data = [trace_temp_diff, trace_power, trace_cost_inc, trace_cost_hour]\n",
    "py.iplot(data, filename='Metrics')"
   ]
  },
  {
   "cell_type": "code",
   "execution_count": 282,
   "metadata": {
    "collapsed": false
   },
   "outputs": [
    {
     "name": "stdout",
     "output_type": "stream",
     "text": [
      "The draw time for this plot will be slow for all clients.\n"
     ]
    },
    {
     "data": {
      "text/html": [
       "<iframe id=\"igraph\" scrolling=\"no\" style=\"border:none;\" seamless=\"seamless\" src=\"https://plot.ly/~Scott-Bunting/10.embed\" height=\"525px\" width=\"100%\"></iframe>"
      ],
      "text/plain": [
       "<plotly.tools.PlotlyDisplay object>"
      ]
     },
     "execution_count": 282,
     "metadata": {},
     "output_type": "execute_result"
    }
   ],
   "source": [
    "normalized_dt=(delta_temperature-delta_temperature.min())/(delta_temperature.max()-delta_temperature.min())\n",
    "normalized_power = (power-power.min())/(power.max()-power.min())\n",
    "normalized_cost_inc = (cost_increment-cost_increment.min())/(cost_increment.max()-cost_increment.min())\n",
    "normalized_cost_hour = (cost_hourly-cost_hourly.min())/(cost_hourly.max()-cost_hourly.min())\n",
    "\n",
    "trace_temp_diff = go.Scatter(\n",
    "    x = time,\n",
    "    y = normalized_dt,\n",
    "    mode = 'markers',\n",
    "    name = 'Temperature Difference (&deg;C)')\n",
    "\n",
    "trace_power = go.Scatter(\n",
    "    x = time,\n",
    "    y = normalized_power,\n",
    "    mode = 'markers',\n",
    "    name = 'Estimated Power Consumption (W)'\n",
    ")\n",
    "\n",
    "trace_cost_inc = go.Scatter(\n",
    "    x = time,\n",
    "    y = normalized_cost_inc,\n",
    "    mode = 'markers',\n",
    "    name = 'Cost Increment (p)'\n",
    ")\n",
    "\n",
    "trace_cost_hour = go.Scatter(\n",
    "    x = time,\n",
    "    y = normalized_cost_hour,\n",
    "    mode = 'markers',\n",
    "    name = 'Hourly Cost Prediction (p)'\n",
    ")\n",
    "\n",
    "data = [trace_temp_diff, trace_power, trace_cost_inc, trace_cost_hour]\n",
    "py.iplot(data, filename='Normalised Metrics')"
   ]
  },
  {
   "cell_type": "markdown",
   "metadata": {},
   "source": [
    "## Interpolation\n",
    "\n",
    "Filling the gaps in the data.  "
   ]
  },
  {
   "cell_type": "code",
   "execution_count": 320,
   "metadata": {
    "collapsed": false
   },
   "outputs": [
    {
     "name": "stdout",
     "output_type": "stream",
     "text": [
      "<type 'datetime.datetime'>\n"
     ]
    }
   ],
   "source": [
    "data_interpolation = pd.read_csv(\n",
    "    './data-storage/usb/data_log_combined.csv')\n",
    "\n",
    "n, m = data_interpolation.shape\n",
    "\n",
    "timelist = []\n",
    "time_test = data_interpolation['time'][:]\n",
    "\n",
    "for i in range(n):\n",
    "    t = datetime.strptime(time_test[i], '%Y/%m/%d %H:%M:%S')\n",
    "    time_test[i] = t\n",
    "    \n",
    "time_test.head()\n",
    "print(type(time_test[0]))"
   ]
  },
  {
   "cell_type": "code",
   "execution_count": 323,
   "metadata": {
    "collapsed": false
   },
   "outputs": [
    {
     "name": "stdout",
     "output_type": "stream",
     "text": [
      "17.0\n"
     ]
    }
   ],
   "source": [
    "diff_vector = time_test.diff()\n",
    "\n",
    "diff_vector.head()"
   ]
  },
  {
   "cell_type": "code",
   "execution_count": 293,
   "metadata": {
    "collapsed": false
   },
   "outputs": [
    {
     "name": "stdout",
     "output_type": "stream",
     "text": [
      "0 days 09:23:31\n",
      "15000000000 nanoseconds\n",
      "0 days 00:00:17.364861\n",
      "[Timedelta('0 days 00:00:34'), Timedelta('0 days 02:59:27'), Timedelta('0 days 03:00:56'), Timedelta('0 days 03:14:52'), Timedelta('0 days 05:33:23'), Timedelta('0 days 09:23:31')]\n"
     ]
    }
   ],
   "source": [
    "max_value = max(diff_vector[1:])\n",
    "print(max_value)\n",
    "\n",
    "median = np.median(diff_vector[1:])\n",
    "print(median)\n",
    "\n",
    "mean = np.mean(diff_vector[1:])\n",
    "print(mean)\n",
    "\n",
    "diff_sorted = sorted(diff_vector[1:])\n",
    "print(diff_sorted[-6:])\n",
    "\n",
    "largest_window = diff_sorted[-6]"
   ]
  },
  {
   "cell_type": "code",
   "execution_count": 283,
   "metadata": {
    "collapsed": false
   },
   "outputs": [
    {
     "data": {
      "text/html": [
       "<iframe id=\"igraph\" scrolling=\"no\" style=\"border:none;\" seamless=\"seamless\" src=\"https://plot.ly/~Scott-Bunting/12.embed\" height=\"525px\" width=\"100%\"></iframe>"
      ],
      "text/plain": [
       "<plotly.tools.PlotlyDisplay object>"
      ]
     },
     "execution_count": 283,
     "metadata": {},
     "output_type": "execute_result"
    }
   ],
   "source": [
    "data = [go.Histogram(x=diff_sorted[1:])]\n",
    "\n",
    "py.iplot(data, filename='Sample Interval Histogram')"
   ]
  },
  {
   "cell_type": "code",
   "execution_count": 331,
   "metadata": {
    "collapsed": true
   },
   "outputs": [],
   "source": [
    "ind1 = diff_vector.index[diff_vector == diff_sorted[-1]]\n",
    "ind2 = diff_vector.index[diff_vector == diff_sorted[-2]]\n",
    "ind3 = diff_vector.index[diff_vector == diff_sorted[-3]]\n",
    "ind4 = diff_vector.index[diff_vector == diff_sorted[-4]]\n",
    "ind5 = diff_vector.index[diff_vector == diff_sorted[-5]]\n",
    "\n",
    "time_index = []\n",
    "for i in range(len(diff_sorted)):\n",
    "    ind = diff_vector.index[diff_vector == diff_sorted[i]]\n",
    "    time_index.append(ind)"
   ]
  },
  {
   "cell_type": "code",
   "execution_count": 333,
   "metadata": {
    "collapsed": false
   },
   "outputs": [
    {
     "data": {
      "text/plain": [
       "datetime.datetime(2019, 1, 4, 9, 53, 22)"
      ]
     },
     "execution_count": 333,
     "metadata": {},
     "output_type": "execute_result"
    }
   ],
   "source": [
    "time_test[time_index[-1][0]]"
   ]
  },
  {
   "cell_type": "code",
   "execution_count": 342,
   "metadata": {
    "collapsed": false
   },
   "outputs": [
    {
     "name": "stdout",
     "output_type": "stream",
     "text": [
      "2019-01-04 09:53:22\n",
      "2019-01-04 00:29:51\n"
     ]
    },
    {
     "ename": "NameError",
     "evalue": "name 'round_up' is not defined",
     "output_type": "error",
     "traceback": [
      "\u001b[1;31m---------------------------------------------------------------------------\u001b[0m",
      "\u001b[1;31mNameError\u001b[0m                                 Traceback (most recent call last)",
      "\u001b[1;32m<ipython-input-342-daf101562b5a>\u001b[0m in \u001b[0;36m<module>\u001b[1;34m()\u001b[0m\n\u001b[0;32m      5\u001b[0m \u001b[1;33m\u001b[0m\u001b[0m\n\u001b[0;32m      6\u001b[0m \u001b[0mdelta_time\u001b[0m \u001b[1;33m=\u001b[0m \u001b[0mend\u001b[0m \u001b[1;33m-\u001b[0m \u001b[0mstart\u001b[0m\u001b[1;33m\u001b[0m\u001b[0m\n\u001b[1;32m----> 7\u001b[1;33m \u001b[1;32mprint\u001b[0m\u001b[1;33m(\u001b[0m\u001b[1;34m'{:.0f} samples were skipped'\u001b[0m\u001b[1;33m.\u001b[0m\u001b[0mformat\u001b[0m\u001b[1;33m(\u001b[0m\u001b[0mround_up\u001b[0m\u001b[1;33m(\u001b[0m\u001b[0mdelta_time\u001b[0m\u001b[1;33m.\u001b[0m\u001b[0mtotal_seconds\u001b[0m\u001b[1;33m(\u001b[0m\u001b[1;33m)\u001b[0m\u001b[1;33m/\u001b[0m\u001b[1;36m15\u001b[0m\u001b[1;33m)\u001b[0m\u001b[1;33m)\u001b[0m\u001b[1;33m)\u001b[0m\u001b[1;33m\u001b[0m\u001b[0m\n\u001b[0m",
      "\u001b[1;31mNameError\u001b[0m: name 'round_up' is not defined"
     ]
    }
   ],
   "source": [
    "end = time_test[time_index[-1][0]]\n",
    "start = time_test[time_index[-1][0] - 1]\n",
    "print end\n",
    "print start\n",
    "\n",
    "delta_time = end - start\n",
    "print('{:.0f} samples were skipped'.format(round_up(delta_time.total_seconds()/15)))"
   ]
  },
  {
   "cell_type": "code",
   "execution_count": 338,
   "metadata": {
    "collapsed": false
   },
   "outputs": [
    {
     "name": "stdout",
     "output_type": "stream",
     "text": [
      "2019-01-04 09:53:22\n",
      "2019-01-04 00:29:51\n",
      "2254.06666667\n",
      "4912    2019-01-04 00:29:51\n",
      "Name: time, dtype: object\n",
      "4913    2019-01-04 09:53:22\n",
      "Name: time, dtype: object\n",
      "18386    2019-01-06 19:34:28\n",
      "Name: time, dtype: object\n",
      "18387    2019-01-07 01:07:51\n",
      "Name: time, dtype: object\n",
      "13946    2019-01-06 07:04:34\n",
      "Name: time, dtype: object\n",
      "13947    2019-01-06 10:19:26\n",
      "Name: time, dtype: object\n",
      "6254    2019-01-04 15:53:00\n",
      "Name: time, dtype: object\n",
      "6255    2019-01-04 18:53:56\n",
      "Name: time, dtype: object\n",
      "8929    2019-01-05 06:53:51\n",
      "Name: time, dtype: object\n",
      "8930    2019-01-05 09:53:18\n",
      "Name: time, dtype: object\n"
     ]
    }
   ],
   "source": [
    "print(time_test[ind1-1])\n",
    "print(time_test[ind1])\n",
    "\n",
    "print(time_test[ind2-1])\n",
    "print(time_test[ind2])\n",
    "\n",
    "print(time_test[ind3-1])\n",
    "print(time_test[ind3])\n",
    "\n",
    "print(time_test[ind4-1])\n",
    "print(time_test[ind4])\n",
    "\n",
    "print(time_test[ind5-1])\n",
    "print(time_test[ind5])"
   ]
  },
  {
   "cell_type": "code",
   "execution_count": null,
   "metadata": {
    "collapsed": true
   },
   "outputs": [],
   "source": []
  }
 ],
 "metadata": {
  "kernelspec": {
   "display_name": "Python 2",
   "language": "python",
   "name": "python2"
  },
  "language_info": {
   "codemirror_mode": {
    "name": "ipython",
    "version": 2
   },
   "file_extension": ".py",
   "mimetype": "text/x-python",
   "name": "python",
   "nbconvert_exporter": "python",
   "pygments_lexer": "ipython2",
   "version": "2.7.12"
  }
 },
 "nbformat": 4,
 "nbformat_minor": 2
}
