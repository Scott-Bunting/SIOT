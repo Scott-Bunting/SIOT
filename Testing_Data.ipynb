{
 "cells": [
  {
   "cell_type": "markdown",
   "metadata": {},
   "source": [
    "# Coursework Pt. 1 - Sensing\n",
    "\n",
    "## Test Data: Open and Closing a window\n",
    "\n",
    "This document is a test analysis of internal environment data that has been collected from the bme680 sensor"
   ]
  },
  {
   "cell_type": "markdown",
   "metadata": {},
   "source": [
    "## Import Required Packages\n",
    "\n",
    "*These need to be checked to ensure they are used in the analysis, otherwise there is no point importing them*"
   ]
  },
  {
   "cell_type": "code",
   "execution_count": 9,
   "metadata": {
    "collapsed": false
   },
   "outputs": [
    {
     "data": {
      "text/html": [
       "<script>requirejs.config({paths: { 'plotly': ['https://cdn.plot.ly/plotly-latest.min']},});if(!window.Plotly) {{require(['plotly'],function(plotly) {window.Plotly=plotly;});}}</script>"
      ],
      "text/vnd.plotly.v1+html": [
       "<script>requirejs.config({paths: { 'plotly': ['https://cdn.plot.ly/plotly-latest.min']},});if(!window.Plotly) {{require(['plotly'],function(plotly) {window.Plotly=plotly;});}}</script>"
      ]
     },
     "metadata": {},
     "output_type": "display_data"
    }
   ],
   "source": [
    "import os \n",
    "import warnings\n",
    "warnings.filterwarnings('ignore')\n",
    "\n",
    "##General packages\n",
    "import numpy as np\n",
    "from numpy.random import normal, seed\n",
    "import pandas as pd\n",
    "import matplotlib.pyplot as plt\n",
    "plt.style.use('fivethirtyeight') #plotting style as recommended by Week 5 Tutorial.\n",
    "%matplotlib inline \n",
    "#Plots within notebook\n",
    "from pylab import rcParams\n",
    "from plotly import tools\n",
    "import plotly.plotly as py\n",
    "from plotly.offline import init_notebook_mode, iplot\n",
    "init_notebook_mode(connected=True)\n",
    "import plotly.graph_objs as go\n",
    "import plotly.figure_factory as ff\n",
    "\n",
    "## Packages for analyzing time series\n",
    "import statsmodels.api as sm\n",
    "from scipy.stats import norm\n",
    "from statsmodels.tsa.arima_model import ARMA\n",
    "from statsmodels.tsa.stattools import adfuller\n",
    "from statsmodels.graphics.tsaplots import plot_acf, plot_pacf\n",
    "from statsmodels.tsa.arima_process import ArmaProcess\n",
    "from statsmodels.tsa.arima_model import ARIMA\n",
    "import math\n",
    "from sklearn.metrics import mean_squared_error"
   ]
  },
  {
   "cell_type": "code",
   "execution_count": 19,
   "metadata": {
    "collapsed": false
   },
   "outputs": [
    {
     "data": {
      "text/plain": [
       "0      50:04.5\n",
       "1      50:05.6\n",
       "2      50:06.6\n",
       "3      50:07.6\n",
       "4      50:08.7\n",
       "5      50:09.7\n",
       "6      50:10.8\n",
       "7      50:11.8\n",
       "8      50:12.8\n",
       "9      50:13.9\n",
       "10     50:14.9\n",
       "11     50:16.0\n",
       "12     50:17.0\n",
       "13     50:18.1\n",
       "14     05:39.3\n",
       "15     05:40.4\n",
       "16     05:41.4\n",
       "17     05:42.4\n",
       "18     05:43.5\n",
       "19     05:44.5\n",
       "20     05:45.6\n",
       "21     05:46.6\n",
       "22     05:47.6\n",
       "23     05:48.7\n",
       "24     05:49.7\n",
       "25     05:50.8\n",
       "26     05:51.8\n",
       "27     05:52.9\n",
       "28     05:53.9\n",
       "29     05:54.9\n",
       "        ...   \n",
       "644    16:35.5\n",
       "645    16:36.5\n",
       "646    16:37.6\n",
       "647    16:38.6\n",
       "648    16:39.6\n",
       "649    16:40.7\n",
       "650    16:41.7\n",
       "651    16:42.8\n",
       "652    16:43.8\n",
       "653    16:44.8\n",
       "654    16:45.9\n",
       "655    16:46.9\n",
       "656    16:48.0\n",
       "657    16:49.0\n",
       "658    16:50.1\n",
       "659    16:51.1\n",
       "660    16:52.1\n",
       "661    16:53.2\n",
       "662    16:54.2\n",
       "663    16:55.3\n",
       "664    16:56.3\n",
       "665    16:57.4\n",
       "666    16:58.4\n",
       "667    16:59.4\n",
       "668    17:00.5\n",
       "669    17:01.5\n",
       "670    17:02.6\n",
       "671    17:03.6\n",
       "672    17:04.6\n",
       "673    17:05.7\n",
       "Name: datetime, Length: 674, dtype: object"
      ]
     },
     "execution_count": 19,
     "metadata": {},
     "output_type": "execute_result"
    }
   ],
   "source": [
    "df = pd.read_csv('data_log.csv')\n",
    "\n",
    "df['datetime']"
   ]
  },
  {
   "cell_type": "code",
   "execution_count": null,
   "metadata": {
    "collapsed": true
   },
   "outputs": [],
   "source": []
  }
 ],
 "metadata": {
  "kernelspec": {
   "display_name": "Python 2",
   "language": "python",
   "name": "python2"
  },
  "language_info": {
   "codemirror_mode": {
    "name": "ipython",
    "version": 2
   },
   "file_extension": ".py",
   "mimetype": "text/x-python",
   "name": "python",
   "nbconvert_exporter": "python",
   "pygments_lexer": "ipython2",
   "version": "2.7.12"
  }
 },
 "nbformat": 4,
 "nbformat_minor": 2
}
