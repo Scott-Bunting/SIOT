{
 "cells": [
  {
   "cell_type": "markdown",
   "metadata": {},
   "source": [
    "# Temperature Data - API\n",
    "\n",
    "This notebook contains code for the independent retrieval and analysis of temperature data.\n",
    "\n",
    "## Source\n",
    "\n",
    "[Open Weather Map API](https://openweathermap.org/api)\n",
    "\n",
    "### API Key\n",
    "\n",
    "07bafc834660819c6b0c515fe2a9cac9\n",
    "\n",
    "### Latitude and Longitude\n",
    "\n",
    "*68 Yeldham Road, London, W6 8JG*  \n",
    "lat: 51.489720 long: -0.220320  \n",
    "  \n",
    "*2 Hopetoun Drive, Bridge of Allan, FK9 4QQ*  \n",
    "lat: 56.157910 long: -3.949130  \n"
   ]
  },
  {
   "cell_type": "code",
   "execution_count": 15,
   "metadata": {
    "collapsed": true
   },
   "outputs": [],
   "source": [
    "import pyowm"
   ]
  },
  {
   "cell_type": "code",
   "execution_count": 18,
   "metadata": {
    "collapsed": true
   },
   "outputs": [],
   "source": [
    "API_key = '07bafc834660819c6b0c515fe2a9cac9'\n",
    "\n",
    "lat_yel = 51.489720\n",
    "lon_yel = -0.220320\n",
    "\n",
    "lat_hop = 56.157910\n",
    "lon_hop = -3.949130"
   ]
  },
  {
   "cell_type": "code",
   "execution_count": 20,
   "metadata": {
    "collapsed": false,
    "scrolled": true
   },
   "outputs": [
    {
     "name": "stdout",
     "output_type": "stream",
     "text": [
      "<pyowm.webapi25.weather.Weather - reference time=2018-12-24 00:20:00+00, status=fog, detailed status=fog>\n",
      "{u'speed': 1.5, u'deg': 220}\n",
      "100\n",
      "{'temp_max': -1.0, 'temp_kf': None, 'temp': -1.0, 'temp_min': -1.0}\n"
     ]
    }
   ],
   "source": [
    "owm = pyowm.OWM(API_key)\n",
    "\n",
    "#Search for current weather in London (Great Britain)\n",
    "#observation = owm.weather_at_place('London,GB') #General location\n",
    "observation = owm.weather_at_coords(lat_hop,lon_hop)\n",
    "w = observation.get_weather()\n",
    "print(w)\n",
    "\n",
    "#Weather details\n",
    "wind = w.get_wind()\n",
    "humidity = w.get_humidity()\n",
    "temperature = w.get_temperature('celsius')\n",
    "\n",
    "print(wind)\n",
    "print(humidity)\n",
    "print(temperature)"
   ]
  },
  {
   "cell_type": "code",
   "execution_count": null,
   "metadata": {
    "collapsed": true
   },
   "outputs": [],
   "source": []
  }
 ],
 "metadata": {
  "kernelspec": {
   "display_name": "Python 2",
   "language": "python",
   "name": "python2"
  },
  "language_info": {
   "codemirror_mode": {
    "name": "ipython",
    "version": 2
   },
   "file_extension": ".py",
   "mimetype": "text/x-python",
   "name": "python",
   "nbconvert_exporter": "python",
   "pygments_lexer": "ipython2",
   "version": "2.7.12"
  }
 },
 "nbformat": 4,
 "nbformat_minor": 2
}
